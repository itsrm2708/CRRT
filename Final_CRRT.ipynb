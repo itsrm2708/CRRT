{
  "nbformat": 4,
  "nbformat_minor": 0,
  "metadata": {
    "colab": {
      "provenance": [],
      "toc_visible": true,
      "include_colab_link": true
    },
    "kernelspec": {
      "name": "python3",
      "display_name": "Python 3"
    },
    "language_info": {
      "name": "python"
    }
  },
  "cells": [
    {
      "cell_type": "markdown",
      "metadata": {
        "id": "view-in-github",
        "colab_type": "text"
      },
      "source": [
        "<a href=\"https://colab.research.google.com/github/itsrm2708/CRRT/blob/main/Final_CRRT.ipynb\" target=\"_parent\"><img src=\"https://colab.research.google.com/assets/colab-badge.svg\" alt=\"Open In Colab\"/></a>"
      ]
    },
    {
      "cell_type": "markdown",
      "source": [
        "Import Library"
      ],
      "metadata": {
        "id": "FAcHOLg7VHIm"
      }
    },
    {
      "cell_type": "code",
      "execution_count": 1,
      "metadata": {
        "id": "OcrtRf3rVD7T"
      },
      "outputs": [],
      "source": [
        "import numpy as np\n",
        "import pandas as pd\n",
        "import matplotlib.pyplot as plt"
      ]
    },
    {
      "cell_type": "markdown",
      "source": [
        "Define Helper Functions"
      ],
      "metadata": {
        "id": "c-N6h4UWVE8E"
      }
    },
    {
      "cell_type": "code",
      "source": [
        "def generate_matrix(n):\n",
        "    # Create a nxn matrix with random values between 0 and 7\n",
        "    matrix = np.random.randint(0, 7, (n, n))\n",
        "\n",
        "    # Set the diagonal entries to 0\n",
        "    np.fill_diagonal(matrix, 0)\n",
        "\n",
        "    return matrix\n",
        "\n",
        "def generate_ifn(value):\n",
        "    # Generate a random membership degree between 0 and value/4\n",
        "    # m = np.random.uniform(0, value/4)\n",
        "\n",
        "    # # Ensure the non-membership degree satisfies m + n <= 1\n",
        "    # n = np.random.uniform(0, 1 - m)\n",
        "    ifns = {\n",
        "        \"0\":(0.10,0.90),\n",
        "        \"1\":(0.20,0.65),\n",
        "        \"2\":(0.30,0.55),\n",
        "        \"3\":(0.50,0.50),\n",
        "        \"4\":(0.65,0.25),\n",
        "        \"5\":(0.80,0.05),\n",
        "        \"6\":(0.90,0.10)\n",
        "    }\n",
        "    return ifns[str(value)]\n",
        "\n",
        "\n",
        "def dollar_operation(pair1, pair2):\n",
        "    a1, b1 = pair1\n",
        "    a2, b2 = pair2\n",
        "    return [a1 * a2, b1 + b2 - b1 * b2]\n",
        "\n",
        "def dollar_operation_with_power(pair1,power1, pair2,power2):\n",
        "    a1, b1 = pair1\n",
        "    a2, b2 = pair2\n",
        "    return [(a1**power1) * (a2**power2), ((1-b1)**power1)*((1-b2)**power2)]\n",
        "\n",
        "\n",
        "def m_operation(pair1, pair2):\n",
        "    a1, b1 = pair1\n",
        "    a2, b2 = pair2\n",
        "    return (min(a1, a2), max(b1, b2))\n",
        "\n",
        "def M_operation(pair1, pair2):\n",
        "    a1, b1 = pair1\n",
        "    a2, b2 = pair2\n",
        "    return (max(a1, a2), min(b1, b2))\n",
        "\n",
        "\n",
        "def dist(pair1, pair2):\n",
        "    a1, b1 = pair1\n",
        "    a2, b2 = pair2\n",
        "    h1 = 1 - (a1 + b1)\n",
        "    h2 = 1 - (a2 + b2)\n",
        "\n",
        "    term1 = (abs(2*(a1 - a2) - (b1 - b2)) / 3) * (1 - (h1 + h2) / 2)\n",
        "    term2 = (abs(2*(b1 - b2) - (a1 - a2)) / 3) * ((h1 + h2) / 2)\n",
        "\n",
        "    return term1 + term2"
      ],
      "metadata": {
        "id": "IJVcmsu9VbxR"
      },
      "execution_count": 2,
      "outputs": []
    },
    {
      "cell_type": "markdown",
      "source": [
        "Input no of experts and no of factors"
      ],
      "metadata": {
        "id": "gtfd-GGPV-5E"
      }
    },
    {
      "cell_type": "code",
      "source": [
        "k = int(input(\"Enter the number of Experts (k): \"))\n",
        "n = int(input(\"Enter the number of the Factors (n): \"))\n",
        "priority_parameter=float(input(\"Enter the Priority Parameter: \"))"
      ],
      "metadata": {
        "colab": {
          "base_uri": "https://localhost:8080/"
        },
        "id": "SdHj0M5oWErF",
        "outputId": "d2ea41e2-dd67-4bcc-e8a8-f060a7911687"
      },
      "execution_count": 3,
      "outputs": [
        {
          "name": "stdout",
          "output_type": "stream",
          "text": [
            "Enter the number of Experts (k): 20\n",
            "Enter the number of the Factors (n): 18\n",
            "Enter the Priority Parameter: 0.6\n"
          ]
        }
      ]
    },
    {
      "cell_type": "markdown",
      "source": [
        "Experts Data to be filled in Matrices"
      ],
      "metadata": {
        "id": "ZPE6ZmI4VkkL"
      }
    },
    {
      "cell_type": "code",
      "source": [
        "matrices = [generate_matrix(n) for _ in range(k)]\n",
        "\n",
        "    # Convert matrices to IFN matrices\n",
        "ifn_matrices = []\n",
        "\n",
        "for matrix in matrices:\n",
        "    ifn_matrix = np.array([[generate_ifn(value) for value in row] for row in matrix])\n",
        "    ifn_matrices.append(ifn_matrix)\n",
        "\n",
        "# Write the matrices and IFN matrices to a file\n",
        "with open(\"solution.txt\", \"w\") as file:\n",
        "    for i, (matrix, ifn_matrix) in enumerate(zip(matrices, ifn_matrices), 1):\n",
        "        file.write(f\"Matrix {i}:\\n\")\n",
        "        for row in matrix:\n",
        "            file.write(\" \".join(map(str, row)) + \"\\n\")\n",
        "        file.write(\"\\n\")\n",
        "\n",
        "        file.write(f\"IFN Matrix {i}:\\n\")\n",
        "        for row in ifn_matrix:\n",
        "            file.write(\" \".join([f\"({m:.2f}, {n:.2f})\" for m, n in row]) + \"\\n\")\n",
        "        file.write(\"\\n\")\n",
        "\n",
        "print(\"Matrices and IFN matrices have been written to 'solution.txt'\")"
      ],
      "metadata": {
        "colab": {
          "base_uri": "https://localhost:8080/"
        },
        "id": "tMKbuaP2VreL",
        "outputId": "a77359ae-e44d-464d-ffda-80b853249884"
      },
      "execution_count": 4,
      "outputs": [
        {
          "output_type": "stream",
          "name": "stdout",
          "text": [
            "Matrices and IFN matrices have been written to 'solution.txt'\n"
          ]
        }
      ]
    },
    {
      "cell_type": "markdown",
      "source": [
        "Calculate IFPIO  Matrix"
      ],
      "metadata": {
        "id": "uVk6BnsMWUbX"
      }
    },
    {
      "cell_type": "code",
      "source": [
        "IFPIO = np.zeros((n, n, 2))  # Initialize a nxn matrix with pairs\n",
        "for i in range(n):\n",
        "    for j in range(n):\n",
        "        result = [1, 1]  # Initialize with neutral element for the $ operation\n",
        "        for ifn_matrix in ifn_matrices:\n",
        "            result = [result[0] * (ifn_matrix[i][j][0]**(1/k)),result[1]*((1-ifn_matrix[i][j][1])**(1/k))]\n",
        "        IFPIO[i][j] = [result[0],1-result[1]]  # Take the average\n",
        "\n",
        "# Append the IFPIO matrix to the solution.txt file\n",
        "with open(\"solution.txt\", \"a\") as file:\n",
        "    file.write(\"IFPIO Matrix (Intuitionistic Fuzzy Positive Ideal Opinion Matrix):\\n\")\n",
        "    for row in IFPIO:\n",
        "        file.write(\" \".join([f\"({m:10.5f}, {n:10.5f})\" for m, n in row]) + \"\\n\")\n",
        "    file.write(\"\\n\")\n",
        "\n",
        "print(\"IFPIO matrix has been appended to 'solution.txt'\")\n"
      ],
      "metadata": {
        "colab": {
          "base_uri": "https://localhost:8080/"
        },
        "id": "sg2ftrZiWkAD",
        "outputId": "d809ebc9-8e45-4c46-9490-4270755dee6c"
      },
      "execution_count": 5,
      "outputs": [
        {
          "output_type": "stream",
          "name": "stdout",
          "text": [
            "IFPIO matrix has been appended to 'solution.txt'\n"
          ]
        }
      ]
    },
    {
      "cell_type": "markdown",
      "source": [
        "Calculate IFNIO Matrice"
      ],
      "metadata": {
        "id": "mZWtHZ7GWyGR"
      }
    },
    {
      "cell_type": "code",
      "source": [
        "# Compute the IFNIO matrix by swapping the pairs from the IFPIO matrix\n",
        "IFNIO = np.array([[(b, a) for a, b in row] for row in IFPIO])\n",
        "\n",
        "# Append the IFNIO matrix to the solution.txt file\n",
        "with open(\"solution.txt\", \"a\") as file:\n",
        "    file.write(\"IFNIO Matrix (Intuitionistic Fuzzy Negative Ideal Opinion Matrix):\\n\")\n",
        "    for row in IFNIO:\n",
        "        file.write(\" \".join([f\"({m:10.5f}, {n:10.5f})\" for m, n in row]) + \"\\n\")\n",
        "    file.write(\"\\n\")\n",
        "\n",
        "print(\"IFNIO matrix has been appended to 'solution.txt'\")\n"
      ],
      "metadata": {
        "colab": {
          "base_uri": "https://localhost:8080/"
        },
        "id": "jrSR6Rf6W3PW",
        "outputId": "3b9b07cd-3a5c-4d85-c471-6025065a65ea"
      },
      "execution_count": 6,
      "outputs": [
        {
          "output_type": "stream",
          "name": "stdout",
          "text": [
            "IFNIO matrix has been appended to 'solution.txt'\n"
          ]
        }
      ]
    },
    {
      "cell_type": "markdown",
      "source": [
        "Calculate IFLNIO Matrix"
      ],
      "metadata": {
        "id": "z_CvLbTLXA8u"
      }
    },
    {
      "cell_type": "code",
      "source": [
        "# Compute the IFLNIO matrix using the m operation\n",
        "IFLNIO = np.zeros((n, n, 2))  # Initialize a 5x5 matrix with pairs\n",
        "\n",
        "for i in range(n):\n",
        "    for j in range(n):\n",
        "        result = ifn_matrices[0][i][j]  # Start with the first IFN matrix\n",
        "        for p in range(1, len(ifn_matrices)):\n",
        "            result = m_operation(result, ifn_matrices[p][i][j])\n",
        "        IFLNIO[i][j] = result\n",
        "\n",
        "# Append the IFLNIO matrix to the solution.txt file\n",
        "with open(\"solution.txt\", \"a\") as file:\n",
        "    file.write(\"IFLNIO Matrix (Intuitionistic Fuzzy Left Negative Ideal Opinion Matrix):\\n\")\n",
        "    for row in IFLNIO:\n",
        "        file.write(\" \".join([f\"({m:10.5f}, {n:10.5f})\" for m, n in row]) + \"\\n\")\n",
        "    file.write(\"\\n\")\n",
        "\n",
        "print(\"IFLNIO matrix has been appended to 'solution.txt'\")\n"
      ],
      "metadata": {
        "colab": {
          "base_uri": "https://localhost:8080/"
        },
        "id": "rJykfjHfW-nc",
        "outputId": "3e48722b-ce82-4f15-d459-6db6eef1f151"
      },
      "execution_count": 7,
      "outputs": [
        {
          "output_type": "stream",
          "name": "stdout",
          "text": [
            "IFLNIO matrix has been appended to 'solution.txt'\n"
          ]
        }
      ]
    },
    {
      "cell_type": "markdown",
      "source": [
        "Calculate IFRNIO Matrix"
      ],
      "metadata": {
        "id": "QtGGh9SlXFm1"
      }
    },
    {
      "cell_type": "code",
      "source": [
        "# Compute the IFRNIO matrix using the M operation\n",
        "IFRNIO = np.zeros((n, n, 2))  # Initialize a 5x5 matrix with pairs\n",
        "\n",
        "for i in range(n):\n",
        "    for j in range(n):\n",
        "        result = ifn_matrices[0][i][j]  # Start with the first IFN matrix\n",
        "        for p in range(1, len(ifn_matrices)):\n",
        "            result = M_operation(result, ifn_matrices[p][i][j])\n",
        "        IFRNIO[i][j] = result\n",
        "\n",
        "# Append the IFRNIO matrix to the solution.txt file\n",
        "with open(\"solution.txt\", \"a\") as file:\n",
        "    file.write(\"IFRNIO Matrix (Intuitionistic Fuzzy Right Negative Ideal Opinion Matrix):\\n\")\n",
        "    for row in IFRNIO:\n",
        "        file.write(\" \".join([f\"({m:10.5f}, {n:10.5f})\" for m, n in row]) + \"\\n\")\n",
        "    file.write(\"\\n\")\n",
        "\n",
        "print(\"IFRNIO matrix has been appended to 'solution.txt'\")"
      ],
      "metadata": {
        "colab": {
          "base_uri": "https://localhost:8080/"
        },
        "id": "6KeOAAa_XQ7A",
        "outputId": "46d53177-1160-4038-8626-b0fa2ee86c50"
      },
      "execution_count": 8,
      "outputs": [
        {
          "output_type": "stream",
          "name": "stdout",
          "text": [
            "IFRNIO matrix has been appended to 'solution.txt'\n"
          ]
        }
      ]
    },
    {
      "cell_type": "markdown",
      "source": [
        "Defined List of names of matrix"
      ],
      "metadata": {
        "id": "9hGB7ehUXY3A"
      }
    },
    {
      "cell_type": "code",
      "source": [
        "matrices_list = [IFPIO, IFNIO, IFLNIO, IFRNIO]\n",
        "matrices_names = [\"IFPIO\", \"IFNIO\", \"IFLNIO\", \"IFRNIO\"]\n",
        "\n",
        "# List of the five IFN matrices\n",
        "ifn_matrices_list = ifn_matrices\n",
        "ifn_matrices_names = [f\"IFN{p+1}\" for p in range(k)]\n",
        "expert_matrices_names = [f\"Expert_{p+1}\" for p in range(k)]\n",
        "# Dictionary to store the distance matrices\n",
        "distance_matrices_dict = {}"
      ],
      "metadata": {
        "id": "HbFshq36Xdop"
      },
      "execution_count": 9,
      "outputs": []
    },
    {
      "cell_type": "markdown",
      "source": [
        "Calculate distance matrix for all the possible combinations"
      ],
      "metadata": {
        "id": "wI5yiTqmXioF"
      }
    },
    {
      "cell_type": "code",
      "source": [
        "# Compute the distance matrices for all n*k combinations\n",
        "with open(\"solution.txt\", \"a\") as file:\n",
        "    for i, matrix in enumerate(matrices_list):\n",
        "          for j, ifn_matrix in enumerate(ifn_matrices_list):\n",
        "              distance_matrix = np.zeros((n, n))\n",
        "              for x in range(n):\n",
        "                  for y in range(n):\n",
        "                      distance_matrix[x][y] = dist(matrix[x][y], ifn_matrix[x][y])\n",
        "\n",
        "              # Store the distance matrix in the dictionary\n",
        "              key = f\"{matrices_names[i]}_to_{ifn_matrices_names[j]}\"\n",
        "\n",
        "              distance_matrices_dict[key] = distance_matrix\n",
        "\n",
        "              # Append the distance matrix to the solution.txt file\n",
        "              file.write(f\"Distance Matrix between {matrices_names[i]} and {ifn_matrices_names[j]}:\\n\")\n",
        "              for row in distance_matrix:\n",
        "                  file.write(\" \".join([f\"{value:10.5f}\" for value in row]) + \"\\n\")\n",
        "              file.write(\"\\n\")\n",
        "\n",
        "print(\"All distance matrices have been computed and stored.\")"
      ],
      "metadata": {
        "colab": {
          "base_uri": "https://localhost:8080/"
        },
        "id": "B8Xrpo4rXtpU",
        "outputId": "47d1f310-8027-4d1c-9851-6bdf45f3172e"
      },
      "execution_count": 10,
      "outputs": [
        {
          "output_type": "stream",
          "name": "stdout",
          "text": [
            "All distance matrices have been computed and stored.\n"
          ]
        }
      ]
    },
    {
      "cell_type": "markdown",
      "source": [
        "Initialize DistanceMatrix"
      ],
      "metadata": {
        "id": "jgafMczjYH6N"
      }
    },
    {
      "cell_type": "code",
      "source": [
        "DistanceMatrix = np.zeros((k, 4))"
      ],
      "metadata": {
        "id": "_c--7LNKYLSC"
      },
      "execution_count": 11,
      "outputs": []
    },
    {
      "cell_type": "markdown",
      "source": [
        "Calculate Values for DistanceMatrix"
      ],
      "metadata": {
        "id": "sBJ7udpxYNb_"
      }
    },
    {
      "cell_type": "code",
      "source": [
        "# Compute the values for DistanceMatrix\n",
        "for i, ifn_name in enumerate(ifn_matrices_names):\n",
        "    for j, matrix_name in enumerate(matrices_names):\n",
        "        key = f\"{matrix_name}_to_{ifn_name}\"\n",
        "        DistanceMatrix[i][j] = np.sum(distance_matrices_dict[key])\n",
        "\n",
        "# Append the DistanceMatrix to the solution.txt file\n",
        "with open(\"solution.txt\", \"a\") as file:\n",
        "    file.write(\"DistanceMatrix (Summation of Distance Matrices):\\n\")\n",
        "\n",
        "    # Top boundary\n",
        "    file.write(\"+\" + \"-\" * (len(matrices_names) * 12 + 7) + \"+\\n\")\n",
        "\n",
        "    # Column names with vertical boundaries\n",
        "    file.write(\"|       \" + \" | \".join(matrices_names) + \" |\\n\")\n",
        "\n",
        "    # Separator line\n",
        "    file.write(\"|\" + \"-\" * (len(matrices_names) * 12 + 7) + \"|\\n\")\n",
        "\n",
        "    # Matrix rows with vertical boundaries\n",
        "    for i, row in enumerate(DistanceMatrix):\n",
        "        file.write(\"| \" + expert_matrices_names[i] + \" \" + \" | \".join([f\"{value:10.5f}\" for value in row]) + \" |\\n\")\n",
        "\n",
        "    # Bottom boundary\n",
        "    file.write(\"+\" + \"-\" * (len(matrices_names) * 12 + 7) + \"+\\n\\n\")\n",
        "\n",
        "print(\"DistanceMatrix with a boundary has been appended to 'solution.txt'\")"
      ],
      "metadata": {
        "colab": {
          "base_uri": "https://localhost:8080/"
        },
        "id": "z9DtZsEEYbuY",
        "outputId": "1bcd14e5-325b-4199-99a2-d4bedd04c109"
      },
      "execution_count": 12,
      "outputs": [
        {
          "output_type": "stream",
          "name": "stdout",
          "text": [
            "DistanceMatrix with a boundary has been appended to 'solution.txt'\n"
          ]
        }
      ]
    },
    {
      "cell_type": "markdown",
      "source": [
        "Calculate Closeness Coefficient"
      ],
      "metadata": {
        "id": "kHN3rL8fYfCM"
      }
    },
    {
      "cell_type": "code",
      "source": [
        "closeness_coefficients = []"
      ],
      "metadata": {
        "id": "c2G363u7YnfN"
      },
      "execution_count": 13,
      "outputs": []
    },
    {
      "cell_type": "code",
      "source": [
        "for i in range(k):  # For each IFN\n",
        "        numerator = sum(DistanceMatrix[i, j] for j in [1, 2, 3])  # Sum values from IFNIO, IFLNIO, and IFRNIO columns\n",
        "        denominator = sum(DistanceMatrix[i])  # Sum values from all four columns\n",
        "        coefficient = numerator / denominator if denominator != 0 else 0  # Handle potential division by zero\n",
        "        closeness_coefficients.append(coefficient)\n",
        "\n",
        "# Append the closeness coefficients to the solution.txt file\n",
        "with open(\"solution.txt\", \"a\") as file:\n",
        "    file.write(\"Closeness Coefficients for each Expert:\\n\")\n",
        "    for i, coefficient in enumerate(closeness_coefficients):\n",
        "        file.write(f\"{expert_matrices_names[i]}: {coefficient:10.5f}\\n\")\n",
        "    file.write(\"\\n\")\n",
        "\n",
        "print(\"Closeness coefficients have been computed and appended to 'solution.txt'\")"
      ],
      "metadata": {
        "colab": {
          "base_uri": "https://localhost:8080/"
        },
        "id": "ItZLrqjoYofC",
        "outputId": "f3e20266-1980-468d-b7cb-6243d65043df"
      },
      "execution_count": 14,
      "outputs": [
        {
          "output_type": "stream",
          "name": "stdout",
          "text": [
            "Closeness coefficients have been computed and appended to 'solution.txt'\n"
          ]
        }
      ]
    },
    {
      "cell_type": "markdown",
      "source": [
        "Calculate **μ** [degree of membership] , **ν** [degree of non-membership] , **π** [degree of hesitation]\n",
        "\n"
      ],
      "metadata": {
        "id": "w2YfWXVNY8yL"
      }
    },
    {
      "cell_type": "code",
      "source": [
        "mu_values = []\n",
        "nu_values = []\n",
        "hesitation_values = []\n",
        "\n",
        "# Compute the values for each IFN\n",
        "for i in range(k):\n",
        "    # Compute mu value\n",
        "    denominator = DistanceMatrix[i, 0] + DistanceMatrix[i, 1]\n",
        "    mu = DistanceMatrix[i, 1] / denominator if denominator != 0 else 0\n",
        "    mu_values.append(mu)\n",
        "\n",
        "    # Compute nu value\n",
        "    nu = 1 - closeness_coefficients[i]\n",
        "    nu_values.append(nu)\n",
        "\n",
        "    # Compute hesitation value\n",
        "    hesitation = 1 - (mu + nu)\n",
        "    hesitation_values.append(hesitation)\n",
        "\n",
        "# Append the table to the solution.txt file\n",
        "with open(\"solution.txt\", \"a\") as file:\n",
        "    file.write(\"Table of  μ, ν, and π values for each Expert:\\n\")\n",
        "    file.write(\"IFN     |      μ     |   ν   | π\\n\")\n",
        "    file.write(\"-\" * 50 + \"\\n\")\n",
        "    for i in range(k):\n",
        "        file.write(f\"{expert_matrices_names[i]:<8}| {mu_values[i]:10.5f} | {nu_values[i]:10.5f} | {hesitation_values[i]:10.5f}\\n\")\n",
        "    file.write(\"\\n\")\n",
        "\n",
        "print(\"Table of  μ, ν, and π values has been appended to 'solution.txt'\")"
      ],
      "metadata": {
        "colab": {
          "base_uri": "https://localhost:8080/"
        },
        "id": "K5YHXQ3uZcRp",
        "outputId": "4fc4e100-38d4-434b-b9c0-5501d1d29b8b"
      },
      "execution_count": 15,
      "outputs": [
        {
          "output_type": "stream",
          "name": "stdout",
          "text": [
            "Table of  μ, ν, and π values has been appended to 'solution.txt'\n"
          ]
        }
      ]
    },
    {
      "cell_type": "markdown",
      "source": [
        "Weight For Each Expert"
      ],
      "metadata": {
        "id": "Ql0yILCcaBSH"
      }
    },
    {
      "cell_type": "code",
      "source": [
        "# Compute the weights W for each IFN\n",
        "weights = []\n",
        "for i in range(k):\n",
        "    mu = mu_values[i]\n",
        "    nu = nu_values[i]\n",
        "    hesitation = hesitation_values[i]\n",
        "    weight = mu + hesitation * (mu / (mu + nu) if mu + nu != 0 else 0)  # Handle potential division by zero\n",
        "    weights.append(weight)\n",
        "\n",
        "# Compute the normalized weights NW\n",
        "total_weight = sum(weights)\n",
        "normalized_weights = [weight / total_weight if total_weight != 0 else 0 for weight in weights]  # Handle potential division by zero\n",
        "\n",
        "# Append the weights and normalized weights to the solution.txt file\n",
        "with open(\"solution.txt\", \"a\") as file:\n",
        "    file.write(\"Weights (W) and Normalized Weights (NW) for each Expert:\\n\")\n",
        "    file.write(\"Expert     |     W      |     NW\\n\")\n",
        "    file.write(\"-\" * 40 + \"\\n\")\n",
        "    for i in range(k):\n",
        "        file.write(f\"{expert_matrices_names[i] :<8}| {weights[i]:10.5f} | {normalized_weights[i]:10.5f}\\n\")\n",
        "    file.write(\"\\n\")\n",
        "\n",
        "print(\"Weights and normalized weights have been computed and appended to 'solution.txt'\")"
      ],
      "metadata": {
        "colab": {
          "base_uri": "https://localhost:8080/"
        },
        "id": "kmxJeA5naKHA",
        "outputId": "4ef4563b-4aa7-4d81-aeaf-2b3dcebede3a"
      },
      "execution_count": 16,
      "outputs": [
        {
          "output_type": "stream",
          "name": "stdout",
          "text": [
            "Weights and normalized weights have been computed and appended to 'solution.txt'\n"
          ]
        }
      ]
    },
    {
      "cell_type": "markdown",
      "source": [
        "### Inter-Relationship mining between factors"
      ],
      "metadata": {
        "id": "FGtk-8OTD_H4"
      }
    },
    {
      "cell_type": "markdown",
      "source": [
        "Defining Function for getting weighted IFN matrix"
      ],
      "metadata": {
        "id": "gfGH5l2AF0AQ"
      }
    },
    {
      "cell_type": "code",
      "source": [
        "def multiply_matrix_and_weight(matrix, weight):\n",
        "    \"\"\"\n",
        "    Multiplies each element of the matrix (each IFN) by the weight.\n",
        "    Since the matrix contains tuples, we'll handle the multiplication element-wise for the tuples.\n",
        "    \"\"\"\n",
        "    weighted_matrix = []\n",
        "    for row in matrix:\n",
        "        weighted_row = [(weight * element[0], weight * element[1]) for element in row]\n",
        "        weighted_matrix.append(weighted_row)\n",
        "    return weighted_matrix"
      ],
      "metadata": {
        "id": "6wCvZhRFF5MM"
      },
      "execution_count": 17,
      "outputs": []
    },
    {
      "cell_type": "markdown",
      "source": [
        "Get the weighted IFN matrices"
      ],
      "metadata": {
        "id": "KA512KEzF7uf"
      }
    },
    {
      "cell_type": "code",
      "source": [
        "expert_weighted_ifn_matrices = [multiply_matrix_and_weight(matrix, weight) for matrix, weight in zip(ifn_matrices, normalized_weights)]\n",
        "\n",
        "# Writing to the solution file\n",
        "with open('solution.txt', 'a') as file:  # 'a' stands for append mode\n",
        "    file.write(\"\\nExpert Weighted IFN Matrices:\\n\")\n",
        "    for i, matrix in enumerate(expert_weighted_ifn_matrices):\n",
        "        file.write(f\"\\nMatric {i + 1}:\\n\")\n",
        "        for row in matrix:\n",
        "            # Writing each row in a readable format\n",
        "            row_str = ', '.join([f\"({x:.2f}, {y:.2f})\" for x, y in row])\n",
        "            file.write(f\"{row_str}\\n\")\n",
        "\n",
        "print(\"Expert weighted IFN matrices have been written to 'solution.txt'.\")\n"
      ],
      "metadata": {
        "colab": {
          "base_uri": "https://localhost:8080/"
        },
        "id": "9RlwvYWCF-mW",
        "outputId": "cce0509b-0a5b-4d2a-c1f8-02765f775f6b"
      },
      "execution_count": 18,
      "outputs": [
        {
          "output_type": "stream",
          "name": "stdout",
          "text": [
            "Expert weighted IFN matrices have been written to 'solution.txt'.\n"
          ]
        }
      ]
    },
    {
      "cell_type": "markdown",
      "source": [
        "Generate Intuitionistic Fuzzy Weight Aggregated Inter-influence Matrix (IFWAIIM)"
      ],
      "metadata": {
        "id": "Ifm6hPviIwYm"
      }
    },
    {
      "cell_type": "code",
      "source": [
        "def aggregate_with_dollar_operation(matrices,weights):\n",
        "    \"\"\"\n",
        "    Aggregate multiple IFN matrices using the '$' operation.\n",
        "    \"\"\"\n",
        "    aggregated_matrix = np.zeros((n,n,2))\n",
        "    for i in range(n):\n",
        "      for j in range(n):\n",
        "        e = 0;\n",
        "        result = [1, 1]  # Initialize with neutral element for the $ operation\n",
        "        for ifn_matrix in ifn_matrices:\n",
        "            result = [result[0] * (ifn_matrix[i][j][0]**(weights[e])),result[1]*((1-ifn_matrix[i][j][1])**weights[e])]\n",
        "            e = e+1\n",
        "        aggregated_matrix[i][j] = [result[0],1-result[1]]  # Take the average\n",
        "    return aggregated_matrix\n",
        "\n",
        "\n",
        "# Calculate the IFWAIIM\n",
        "ifwaiim = aggregate_with_dollar_operation(ifn_matrices,normalized_weights)\n",
        "\n",
        "# Writing to the solution file\n",
        "with open('solution.txt', 'a') as file:  # 'a' stands for append mode\n",
        "    file.write(\"\\nIntuitionistic Fuzzy Weight Aggregated Inter-influence Matrix (IFWAIIM):\\n\")\n",
        "    for row in ifwaiim:\n",
        "        # Writing each row in a readable format\n",
        "        row_str = ', '.join([f\"({x:.2f}, {y:.2f})\" for x, y in row])\n",
        "        file.write(f\"{row_str}\\n\")\n",
        "\n",
        "print(\"IFWAIIM has been written to 'solution.txt'.\")\n"
      ],
      "metadata": {
        "colab": {
          "base_uri": "https://localhost:8080/"
        },
        "id": "ARwccJSbI2OG",
        "outputId": "1b53fa11-3b5b-496c-dc72-4e97614b72bc"
      },
      "execution_count": 19,
      "outputs": [
        {
          "output_type": "stream",
          "name": "stdout",
          "text": [
            "IFWAIIM has been written to 'solution.txt'.\n"
          ]
        }
      ]
    },
    {
      "cell_type": "markdown",
      "source": [
        "Generate C-IIM (Crisp Inter-Infuence\n",
        "Matrix)"
      ],
      "metadata": {
        "id": "Y_aUu7pDMZ4v"
      }
    },
    {
      "cell_type": "code",
      "source": [
        "def transform_to_crisp_value(ifn):\n",
        "    \"\"\"\n",
        "    Transform an IFN to a crisp value using the formula (mu - nu + 1) / 2.\n",
        "    \"\"\"\n",
        "    mu, nu = ifn\n",
        "    return (mu - nu + 1) / 2\n",
        "\n",
        "def create_ciim(ifwaiim):\n",
        "    \"\"\"\n",
        "    Create the Crisp Inter-Influence Matrix (CIIM) by transforming the IFWAIIM.\n",
        "    \"\"\"\n",
        "    ciim = []\n",
        "    for row in ifwaiim:\n",
        "        crisp_row = [transform_to_crisp_value(ifn) for ifn in row]\n",
        "        ciim.append(crisp_row)\n",
        "    return ciim\n",
        "\n",
        "\n",
        "# Create the CIIM from the IFWAIIM\n",
        "ciim = create_ciim(ifwaiim)\n",
        "\n",
        "# Writing to the solution file\n",
        "with open('solution.txt', 'a') as file:  # 'a' stands for append mode\n",
        "    file.write(\"\\nCrisp Inter-Influence Matrix (CIIM):\\n\")\n",
        "    for row in ciim:\n",
        "        # Writing each row in a readable format\n",
        "        row_str = ', '.join([f\"{value:.2f}\" for value in row])\n",
        "        file.write(f\"{row_str}\\n\")\n",
        "\n",
        "print(\"CIIM has been written to 'solution.txt'.\")"
      ],
      "metadata": {
        "colab": {
          "base_uri": "https://localhost:8080/"
        },
        "id": "qDUh_ndQMfYT",
        "outputId": "16484891-12d6-4f64-ca8d-175c467a9474"
      },
      "execution_count": 20,
      "outputs": [
        {
          "output_type": "stream",
          "name": "stdout",
          "text": [
            "CIIM has been written to 'solution.txt'.\n"
          ]
        }
      ]
    },
    {
      "cell_type": "markdown",
      "source": [
        "Determine the MAXSUM(m*)"
      ],
      "metadata": {
        "id": "KID6Ui0kOtLu"
      }
    },
    {
      "cell_type": "code",
      "source": [
        "# Step 1: Find the maximum in each row and sum these maximums\n",
        "m1 = np.sum(np.max(ciim, axis=1))\n",
        "\n",
        "# Step 2: Find the maximum in each column and sum these maximums\n",
        "m2 = np.sum(np.max(ciim, axis=0))\n",
        "\n",
        "# Step 5: Determine the maximum between 'max_row_sum' and 'max_col_sum'\n",
        "max_value_in_ciim = max(m1, m2)\n",
        "\n",
        "    # Writing to the solution file\n",
        "with open('solution.txt', 'a') as file:  # 'a' stands for append mode\n",
        "    file.write(\"\\n========================================\\n\")  # For emphasis and separation\n",
        "    file.write(f\"Maximum Value in CIIM: {max_value_in_ciim:.2f}\\n\")\n",
        "    file.write(\"========================================\\n\")  # For emphasis and separation\n",
        "\n",
        "print(\"Maximum value in CIIM has been written to 'solution.txt'.\")"
      ],
      "metadata": {
        "colab": {
          "base_uri": "https://localhost:8080/"
        },
        "id": "87IvPpCiOw2O",
        "outputId": "b027f11c-a484-434a-d389-06825d92f085"
      },
      "execution_count": 21,
      "outputs": [
        {
          "output_type": "stream",
          "name": "stdout",
          "text": [
            "Maximum value in CIIM has been written to 'solution.txt'.\n"
          ]
        }
      ]
    },
    {
      "cell_type": "markdown",
      "source": [
        "Generate N-IIM (Normalized Inter-Infuence\n",
        "Matrix)"
      ],
      "metadata": {
        "id": "2ndy9mzdPI3f"
      }
    },
    {
      "cell_type": "code",
      "source": [
        "n_iim = [[value / max_value_in_ciim for value in row] for row in ciim]\n",
        "\n",
        "# Writing to the solution file\n",
        "with open('solution.txt', 'a') as file:  # 'a' stands for append mode\n",
        "    file.write(\"\\nNormalized Inter-Influence Matrix (N-IIM):\\n\")\n",
        "    for row in n_iim:\n",
        "        # Writing each row in a readable format\n",
        "        row_str = ', '.join([f\"{value:.2f}\" for value in row])\n",
        "        file.write(f\"{row_str}\\n\")\n",
        "\n",
        "print(\"N-IIM has been written to 'solution.txt'.\")"
      ],
      "metadata": {
        "colab": {
          "base_uri": "https://localhost:8080/"
        },
        "id": "kt6S9-k3PPW-",
        "outputId": "cbe4cac1-8b31-49e5-b528-166e8e3f164b"
      },
      "execution_count": 22,
      "outputs": [
        {
          "output_type": "stream",
          "name": "stdout",
          "text": [
            "N-IIM has been written to 'solution.txt'.\n"
          ]
        }
      ]
    },
    {
      "cell_type": "markdown",
      "source": [
        "Generate T-IIM (Total Inter-Infuence\n",
        "Matrix)"
      ],
      "metadata": {
        "id": "SSdaSJKaQhL0"
      }
    },
    {
      "cell_type": "code",
      "source": [
        "# Generate an identity matrix of size n x n\n",
        "identity_matrix = np.identity(n)\n",
        "\n",
        "# Calculate (I - n_iim)\n",
        "subtract_matrix = identity_matrix - n_iim\n",
        "try:\n",
        "    # Calculate the inverse of (I - n_iim)\n",
        "    inverse_matrix = np.linalg.inv(subtract_matrix)\n",
        "except np.linalg.LinAlgError:\n",
        "    # Handle the case where the matrix is not invertible\n",
        "    print(\"Error: (I - n_iim) matrix is not invertible.\")\n",
        "    exit()\n",
        "\n",
        "with open('solution.txt', 'a') as file:  # 'a' stands for append mode\n",
        "        file.write(\"\\nInverse of (I - n_iim):\\n\")\n",
        "        for row in inverse_matrix:\n",
        "            row_str = ', '.join([f\"{value:.2f}\" for value in row])\n",
        "            file.write(f\"[{row_str}]\\n\")\n",
        "\n",
        "# Calculate T-IIM: n_iim * (I - n_iim)^-1\n",
        "t_iim =n_iim @ inverse_matrix\n",
        "\n",
        "# Writing to the solution file\n",
        "with open('solution.txt', 'a') as file:  # 'a' stands for append mode\n",
        "    file.write(\"\\nTotal Inter-Influence Matrix (T-IIM):\\n\")\n",
        "    for row in t_iim:\n",
        "        # Writing each row in a readable format\n",
        "        row_str = ', '.join([f\"{value:.2f}\" for value in row])\n",
        "        file.write(f\"{row_str}\\n\")\n",
        "\n",
        "print(\"T-IIM has been written to 'solution.txt'.\")\n",
        "\n",
        "\n"
      ],
      "metadata": {
        "colab": {
          "base_uri": "https://localhost:8080/"
        },
        "id": "Cv48ByVSQkiZ",
        "outputId": "c14c8894-3633-4103-ac02-f3e58bc0c97a"
      },
      "execution_count": 23,
      "outputs": [
        {
          "output_type": "stream",
          "name": "stdout",
          "text": [
            "T-IIM has been written to 'solution.txt'.\n"
          ]
        }
      ]
    },
    {
      "cell_type": "markdown",
      "source": [
        " Calculating  **α** , **minimum and maximum**\n",
        "\n"
      ],
      "metadata": {
        "id": "3QypL_MSUDrJ"
      }
    },
    {
      "cell_type": "code",
      "source": [
        "# Calculate the average of all elements in the matrix.\n",
        "α = np.mean(t_iim)\n",
        "# Find the maximum and minimum values in the matrix\n",
        "max_t_iim = np.max(t_iim)\n",
        "min_t_iim = np.min(t_iim)\n",
        "\n",
        "\n",
        "with open('solution.txt', 'a') as file:  # 'a' stands for append mode\n",
        "    file.write(\"\\n========================================\\n\")  # For emphasis and separation\n",
        "    file.write(f\"Threshold : {α:.2f}\\n\")\n",
        "    file.write(\"========================================\\n\")  # For emphasis and separation\n",
        "    print(\"Threshold α has been written to 'solution.txt'.\")\n",
        "    file.write(\"\\n========================================\\n\")  # For emphasis and separation\n",
        "    file.write(f\"Minimum : {min_t_iim:.2f}\\n\")\n",
        "    file.write(\"========================================\\n\")  # For emphasis and separation\n",
        "    print(\"Minimum value has been written to 'solution.txt'.\")\n",
        "    file.write(\"\\n========================================\\n\")  # For emphasis and separation\n",
        "    file.write(f\"Maximum : {max_t_iim:.2f}\\n\")\n",
        "    file.write(\"========================================\\n\")  # For emphasis and separation\n",
        "    print(\"Maximum value has been written to 'solution.txt'.\")\n",
        "\n",
        "\n"
      ],
      "metadata": {
        "colab": {
          "base_uri": "https://localhost:8080/"
        },
        "id": "Pz4QwuMoUZ9M",
        "outputId": "6835af79-6630-4d14-eb01-a23b51413f36"
      },
      "execution_count": 24,
      "outputs": [
        {
          "output_type": "stream",
          "name": "stdout",
          "text": [
            "Threshold α has been written to 'solution.txt'.\n",
            "Minimum value has been written to 'solution.txt'.\n",
            "Maximum value has been written to 'solution.txt'.\n"
          ]
        }
      ]
    },
    {
      "cell_type": "markdown",
      "source": [
        "Calculating Normalized Total Inter-Influence Matrix (N-TIIM)"
      ],
      "metadata": {
        "id": "sbUeMNdZXeZg"
      }
    },
    {
      "cell_type": "code",
      "source": [
        "# Calculate N-TIIM based on the formula provided\n",
        "n_tiim = (t_iim - α) / (max_t_iim - min_t_iim)\n",
        "with open('solution.txt', 'a') as file:  # 'a' stands for append mode\n",
        "    file.write(\"\\n Normalized Total Inter-Influence Matrix (N-TIIM):\\n\")\n",
        "    for row in n_tiim:\n",
        "        row_str = ', '.join([f\"{value:.2f}\" for value in row])\n",
        "        file.write(f\"{row_str}\\n\")\n",
        "    print(\" Normalized Total Inter-Influence Matrix (N-TIIM) has been written to 'solution.txt'\")\n"
      ],
      "metadata": {
        "colab": {
          "base_uri": "https://localhost:8080/"
        },
        "id": "DwXR2dVjXnJH",
        "outputId": "6237c710-5e59-4617-bcb3-65b06705c00c"
      },
      "execution_count": 25,
      "outputs": [
        {
          "output_type": "stream",
          "name": "stdout",
          "text": [
            " Normalized Total Inter-Influence Matrix (N-TIIM) has been written to 'solution.txt'\n"
          ]
        }
      ]
    },
    {
      "cell_type": "markdown",
      "source": [
        "Generating Degree of influence and Degree of dependence"
      ],
      "metadata": {
        "id": "DqYUvP7EcIdA"
      }
    },
    {
      "cell_type": "code",
      "source": [
        "# Initialize lists to store the degrees of influence and dependence\n",
        "degrees_of_influence = []\n",
        "degrees_of_dependence = []\n",
        "\n",
        "# Calculate the degree of influence for each row\n",
        "for row in n_tiim:\n",
        "    positive_values = row[row > 0]  # filter for positive values\n",
        "    degree_of_influence = np.sum(positive_values)\n",
        "    degrees_of_influence.append(degree_of_influence)\n",
        "\n",
        "# Calculate the degree of dependence for each column\n",
        "for col in n_tiim.T:  # .T is used to transpose the matrix, making the columns accessible as rows\n",
        "    positive_values = col[col > 0]  # filter for positive values\n",
        "    degree_of_dependence = np.sum(positive_values)\n",
        "    degrees_of_dependence.append(degree_of_dependence)\n",
        "\n",
        "# Convert the results to string representations\n",
        "dinf_str = ' '.join('{:0.2f}'.format(dinf) for dinf in degrees_of_influence)\n",
        "ddep_str = ' '.join('{:0.2f}'.format(ddep) for ddep in degrees_of_dependence)\n",
        "\n",
        "# Write the results to the solution.txt file\n",
        "with open(\"solution.txt\", \"a\") as file:\n",
        "    file.write(\"\\nDegrees of Influence (Dinf) for each row:\\n\")\n",
        "    file.write(dinf_str)\n",
        "    file.write(\"\\n\\nDegrees of Dependence (Ddep) for each column:\\n\")\n",
        "    file.write(ddep_str)\n",
        "    file.write(\"\\n\")\n",
        "\n",
        "# At this point, the degrees of influence and dependence have been appended to \"solution.txt\".\n"
      ],
      "metadata": {
        "id": "RwIj7nVzcQMZ"
      },
      "execution_count": 26,
      "outputs": []
    },
    {
      "cell_type": "markdown",
      "source": [
        "Inter-Reachability Matrix"
      ],
      "metadata": {
        "id": "rV1yY6XEcnXi"
      }
    },
    {
      "cell_type": "code",
      "source": [
        "# Create a new matrix based on the condition.\n",
        "IRM = np.where(n_tiim < 0, 0, 1)\n",
        "with open('solution.txt', 'a') as file:  # 'a' stands for append mode\n",
        "    file.write(\"\\Inter-Reachability Matrix:\\n\")\n",
        "    for row in IRM:\n",
        "      row_str = ', '.join([f\"{value:.2f}\" for value in row])\n",
        "      file.write(f\"{row_str}\\n\")\n",
        "    print(\"Inter-Reachability Matrix has been written to 'solution.txt'\")\n"
      ],
      "metadata": {
        "colab": {
          "base_uri": "https://localhost:8080/"
        },
        "id": "56zN8USLcq6G",
        "outputId": "56e57a8a-76c3-4819-9d94-2617eefe9ea6"
      },
      "execution_count": 27,
      "outputs": [
        {
          "output_type": "stream",
          "name": "stdout",
          "text": [
            "Inter-Reachability Matrix has been written to 'solution.txt'\n"
          ]
        }
      ]
    },
    {
      "cell_type": "markdown",
      "source": [
        "Number of influenced factors and number of influent factors"
      ],
      "metadata": {
        "id": "EXERFzlxdkQM"
      }
    },
    {
      "cell_type": "code",
      "source": [
        "# Initialize lists to store the degrees of influence and dependence\n",
        "numbers_of_influenced = []\n",
        "numbers_of_influent = []\n",
        "\n",
        "# Calculate the degree of influence for each row\n",
        "for row in IRM:\n",
        "    number_of_influenced = np.sum(row)\n",
        "    numbers_of_influenced.append(number_of_influenced)\n",
        "\n",
        "# Calculate the degree of dependence for each column\n",
        "for col in IRM.T:  # .T is used to transpose the matrix, making the columns accessible as rows\n",
        "    number_of_influent = np.sum(col)\n",
        "    numbers_of_influent.append(number_of_influent)\n",
        "\n",
        "# Convert the results to string representations\n",
        "ninfluenced_str = ' '.join('{:0.2f}'.format(ninfluenced) for ninfluenced in numbers_of_influenced)\n",
        "ninfluent_str = ' '.join('{:0.2f}'.format(ninfluent) for ninfluent in numbers_of_influent)\n",
        "\n",
        "# Write the results to the solution.txt file\n",
        "with open(\"solution.txt\", \"a\") as file:\n",
        "    file.write(\"\\n number of Influenced (#influenced) for each row:\\n\")\n",
        "    file.write(ninfluenced_str)\n",
        "    file.write(\"\\n number of Influent (#influent) for each column:\\n\")\n",
        "    file.write(ninfluent_str)\n",
        "    file.write(\"\\n\")"
      ],
      "metadata": {
        "id": "rDqGpLqfdrpD"
      },
      "execution_count": 28,
      "outputs": []
    },
    {
      "cell_type": "markdown",
      "source": [
        "Cause-effect identification of the factors"
      ],
      "metadata": {
        "id": "hq0JOMTyiLqb"
      }
    },
    {
      "cell_type": "code",
      "source": [
        "# Calculating the new metrics\n",
        "connectivity_measure = [influenced + influent for influenced, influent in zip(numbers_of_influenced, numbers_of_influent)]\n",
        "measure_of_influence = [influenced - influent for influenced, influent in zip(numbers_of_influenced, numbers_of_influent)]\n",
        "degree_of_prominence = [inf + dep for inf, dep in zip(degrees_of_influence, degrees_of_dependence)]\n",
        "degree_of_relation = [inf - dep for inf, dep in zip(degrees_of_influence, degrees_of_dependence)]\n",
        "CI = [(priority_parameter*moi/n)+(1-priority_parameter)*dor for moi,dor in zip(measure_of_influence,degree_of_relation)]\n",
        "CI_2 = [(priority_parameter*cm/n)+(1-priority_parameter)*dop for cm,dop in zip(connectivity_measure,degree_of_prominence)]\n",
        "Type = [ \"Cause\" if ci>0 else \"Effect\" for ci in CI]\n",
        "# Creating a DataFrame from the lists\n",
        "data = {\n",
        "    'Factors': [f'Factor{i+1}' for i in range(len(degrees_of_influence))],\n",
        "    '#influenced': numbers_of_influenced,\n",
        "    '#influent': numbers_of_influent,\n",
        "    '#influenced + #influent': connectivity_measure,\n",
        "    '#influenced - #influent': measure_of_influence,\n",
        "    \"D'inf\": degrees_of_influence,\n",
        "    \"D'dep\": degrees_of_dependence,\n",
        "    \"D'inf + D'dep\": degree_of_prominence,\n",
        "    \"D'inf - D'dep\": degree_of_relation,\n",
        "    \"CI\":CI,\n",
        "    \"Type\":Type\n",
        "}\n",
        "\n",
        "df = pd.DataFrame(data)\n",
        "\n",
        "# Writing the DataFrame to the solution.txt file with a tabular representation\n",
        "with open(\"solution.txt\", \"a\") as file:\n",
        "    file.write(\"\\n\")  # Add a newline for separation from previous content\n",
        "    file.write(\"Table of Metrics:\\n\")\n",
        "    file.write(df.to_string(index=False))  # DataFrame to formatted string, without row indices\n",
        "    file.write(\"\\n\\n\")  # Add newlines for separation from subsequent content\n"
      ],
      "metadata": {
        "id": "786elFwAhbkR"
      },
      "execution_count": 29,
      "outputs": []
    },
    {
      "cell_type": "markdown",
      "source": [
        "CR-Graph (Cause Effect Partition)"
      ],
      "metadata": {
        "id": "zJNEl7CzpiEN"
      }
    },
    {
      "cell_type": "code",
      "source": [
        "# Points for \"Cause\" (Y > 0)\n",
        "cause_x = [CI_2[i] for i in range(len(CI)) if CI[i] > 0]\n",
        "cause_y = [CI[i] for i in range(len(CI)) if CI[i] > 0]\n",
        "plt.scatter(cause_x, cause_y, c='blue', marker='x', label='Cause')\n",
        "\n",
        "# Points for \"Effect\" (Y < 0)\n",
        "effect_x = [CI_2[i] for i in range(len(CI)) if CI[i] < 0]\n",
        "effect_y = [CI[i] for i in range(len(CI)) if CI[i] < 0]\n",
        "plt.scatter(effect_x, effect_y, c='red', marker='x', label='Effect')\n",
        "\n",
        "# Adding labels for axes\n",
        "plt.xlabel('CI_2')\n",
        "plt.ylabel('CI')\n",
        "\n",
        "# Adding a title to the graph\n",
        "plt.title('CR diagraph')\n",
        "\n",
        "# Adding a legend to the graph\n",
        "plt.legend()\n",
        "\n",
        "# Show the plot\n",
        "plt.show()\n"
      ],
      "metadata": {
        "colab": {
          "base_uri": "https://localhost:8080/",
          "height": 472
        },
        "id": "eDWvSc7Tpl_E",
        "outputId": "c0487b1b-7271-4335-f0bf-d763b7da5d9f"
      },
      "execution_count": 30,
      "outputs": [
        {
          "output_type": "display_data",
          "data": {
            "text/plain": [
              "<Figure size 640x480 with 1 Axes>"
            ],
            "image/png": "[encoded data removed]"
          },
          "metadata": {}
        }
      ]
    }
  ]
}